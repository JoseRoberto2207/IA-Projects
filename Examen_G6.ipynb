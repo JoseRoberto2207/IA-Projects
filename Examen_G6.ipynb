{
  "nbformat": 4,
  "nbformat_minor": 0,
  "metadata": {
    "colab": {
      "provenance": [],
      "include_colab_link": true
    },
    "kernelspec": {
      "name": "python3",
      "display_name": "Python 3"
    },
    "language_info": {
      "name": "python"
    }
  },
  "cells": [
    {
      "cell_type": "markdown",
      "metadata": {
        "id": "view-in-github",
        "colab_type": "text"
      },
      "source": [
        "<a href=\"https://colab.research.google.com/github/JoseRoberto2207/IA-Projects/blob/main/Examen_G6.ipynb\" target=\"_parent\"><img src=\"https://colab.research.google.com/assets/colab-badge.svg\" alt=\"Open In Colab\"/></a>"
      ]
    },
    {
      "cell_type": "markdown",
      "source": [
        "# Examen - proyecto final (Entrega para 13 de enero 2024)\n"
      ],
      "metadata": {
        "id": "0ineV3FW_Y6D"
      }
    },
    {
      "cell_type": "markdown",
      "source": [
        "Esta evaluación consiste en resolver proyectos de inteligencia artificial considerando todo el ciclo de vida de un proyecto, incluye dos partes y cada una vale 10+2 puntos"
      ],
      "metadata": {
        "id": "ldoN-pga__r8"
      }
    },
    {
      "cell_type": "markdown",
      "source": [
        "## Parte 1"
      ],
      "metadata": {
        "id": "hTCjD4Fe_a-J"
      }
    },
    {
      "cell_type": "markdown",
      "source": [
        "\n",
        "### datasets de Kaggle\n",
        "\n",
        "Resolver los pasos del ciclo de vida descrito a continuación para un dataset de Kaggle  (elige solo un dataset y que no sean de los clásicos como titanic, wine quality, etc.):\n",
        "\n",
        "* (2 pts) Análisis exploratorio de datos (histogramas, correlaciones, outliers, valores faltantes, tipos de datos, etc).\n",
        "* (1 pt) Ingeniería / selección de características + limpieza de datos (si es necesario) : [mutual information gain](https://www.kaggle.com/code/ryanholbrook/mutual-information)\n",
        "* (2 pts DL + 2 pts ML) Modelo de Deep learning (adicional pueden usar machine learning con justificación de selección de modelo para contrastar)\n",
        "justificar métricas de evaluación.\n",
        "* (2 pt) Entrenamiento del modelo y validación (test, train, validation) -> predict o similar.\n",
        "* (1 pt)Ajuste de hiperparámetros (optuna, neptune o mlflow)\n",
        "* (1 pt) producción (web app con flask o FastAPI) (extra)\n",
        "* (1 pt) contenedores (subir a dockerhub el proyecto) (extra)\n",
        "\n",
        "Resolver de dos formas, con machine learning convencional y con deep learning.\n",
        "\n",
        "Formato de entrega: repo en github (jupyter notebook / script.py + otros archivos de apoyo opcionales)\n",
        "(extra) repo en dockerhub.\n",
        "\n",
        "separar el notebook en 3 partes o hacer 3 scripts mejor (.py) de acuerdo al post [siguiente](https://www.linkedin.com/feed/update/urn:li:activity:7136278323046813698/?updateEntityUrn=urn%3Ali%3Afs_feedUpdate%3A(V2%2Curn%3Ali%3Aactivity%3A7136278323046813698))\n",
        "\n",
        "\n"
      ],
      "metadata": {
        "id": "MVE5ShwvMESG"
      }
    },
    {
      "cell_type": "markdown",
      "source": [
        "# Parte 2\n"
      ],
      "metadata": {
        "id": "7A3TN6uvu4Vt"
      }
    },
    {
      "cell_type": "markdown",
      "source": [
        "\n",
        "Elige un proyecto de los siguientes, desarrollalo completo (10 pts) y poner un demo en producción (API + docker):\n",
        "\n",
        "* milestone project 1: Computer Vision [colab](https://colab.research.google.com/github/mrdbourke/tensorflow-deep-learning/blob/main/extras/TEMPLATE_07_food_vision_milestone_project_1.ipynb) y github [repo](https://github.com/mrdbourke/tensorflow-deep-learning/blob/main/extras/TEMPLATE_07_food_vision_milestone_project_1.ipynb)\n",
        "* milestone project 2: NLP [colab](https://colab.research.google.com/github/mrdbourke/tensorflow-deep-learning/blob/main/09_SkimLit_nlp_milestone_project_2.ipynb) y github [repo](https://github.com/mrdbourke/tensorflow-deep-learning/blob/main/09_SkimLit_nlp_milestone_project_2.ipynb)\n",
        "* milestone project 3: Time Series [colab](https://colab.research.google.com/github/mrdbourke/tensorflow-deep-learning/blob/main/10_time_series_forecasting_in_tensorflow.ipynb) y github [repo](https://github.com/mrdbourke/tensorflow-deep-learning/blob/main/10_time_series_forecasting_in_tensorflow.ipynb)\n",
        "\n",
        "\n",
        "NOTA: Si vas a trabajar en colab (remoto) Debes crear una copia del colab en tu cuenta personal, guardarla y compartirla en github al final."
      ],
      "metadata": {
        "id": "oogCsboQDaD3"
      }
    },
    {
      "cell_type": "markdown",
      "source": [
        "# Extra points"
      ],
      "metadata": {
        "id": "d0MF6jUGvDtz"
      }
    },
    {
      "cell_type": "markdown",
      "source": [
        "Para cada parte se ganan puntos extra por montar una app con servidor que consuma datos mediante una API y también puntos extra por crear un contenedor docker para la app."
      ],
      "metadata": {
        "id": "suMne_XGMCr-"
      }
    },
    {
      "cell_type": "markdown",
      "source": [
        "# Opción Alterna: Proyecto libre\n",
        "\n",
        "Si quieren desarrollar un proyecto personal, puede ser válido siempre y cuando cumpla los pasos del ciclo de vida de un proyecto de deep learning mencionados en la parte 1.\n"
      ],
      "metadata": {
        "id": "TzQtfByavC8U"
      }
    },
    {
      "cell_type": "code",
      "source": [],
      "metadata": {
        "id": "Eeh6vr-kBXzG"
      },
      "execution_count": null,
      "outputs": []
    }
  ]
}